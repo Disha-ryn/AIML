{
  "nbformat": 4,
  "nbformat_minor": 0,
  "metadata": {
    "colab": {
      "provenance": [],
      "authorship_tag": "ABX9TyM4HePFErKeg3ohhZnPMzkI",
      "include_colab_link": true
    },
    "kernelspec": {
      "name": "python3",
      "display_name": "Python 3"
    },
    "language_info": {
      "name": "python"
    }
  },
  "cells": [
    {
      "cell_type": "markdown",
      "metadata": {
        "id": "view-in-github",
        "colab_type": "text"
      },
      "source": [
        "<a href=\"https://colab.research.google.com/github/Disha-ryn/AIML/blob/main/Task2.ipynb\" target=\"_parent\"><img src=\"https://colab.research.google.com/assets/colab-badge.svg\" alt=\"Open In Colab\"/></a>"
      ]
    },
    {
      "cell_type": "code",
      "source": [
        "# Question - 1\n",
        "import numpy as np\n",
        "\n",
        "def matrix_vector_dot(matrix, vector):\n",
        "\n",
        "    try:\n",
        "        mat = np.array(matrix)\n",
        "        vec = np.array(vector)\n",
        "\n",
        "        if mat.shape[1] != vec.shape[0]:\n",
        "            return -1\n",
        "\n",
        "        result = np.dot(mat, vec)\n",
        "        return result.tolist()\n",
        "    except Exception:\n",
        "        return -1\n",
        "\n",
        "\n",
        "matrix = [[6 , 8, 15], [22 , 5 , 98]]\n",
        "vector = [2 , 45 , 74]\n",
        "print(matrix_vector_dot(matrix, vector))\n"
      ],
      "metadata": {
        "colab": {
          "base_uri": "https://localhost:8080/"
        },
        "id": "Itr_XkVoGYlT",
        "outputId": "08ff92e3-4f9b-4538-9cef-85b58e690741"
      },
      "execution_count": null,
      "outputs": [
        {
          "output_type": "stream",
          "name": "stdout",
          "text": [
            "[1482, 7521]\n"
          ]
        }
      ]
    },
    {
      "cell_type": "code",
      "source": [
        "# Question - 2\n",
        "def transpose_matrix(matrix):\n",
        "\n",
        "    if not matrix:\n",
        "        return []\n",
        "\n",
        "    rows = len(matrix)\n",
        "    cols = len(matrix[0])\n",
        "\n",
        "\n",
        "    transposed = [[matrix[j][i] for j in range(rows)] for i in range(cols)]\n",
        "\n",
        "    return transposed\n",
        "\n",
        "\n",
        "matrix = [[16, 88, 56], [2, 33, 46], [11, 92, 76], [71, 61, 20]]\n",
        "transposed = transpose_matrix(matrix)\n",
        "print(transposed)\n"
      ],
      "metadata": {
        "colab": {
          "base_uri": "https://localhost:8080/"
        },
        "id": "izIIOEB5IAq-",
        "outputId": "6239aee4-4a32-4a0e-b97b-3da750717327"
      },
      "execution_count": null,
      "outputs": [
        {
          "output_type": "stream",
          "name": "stdout",
          "text": [
            "[[16, 2, 11, 71], [88, 33, 92, 61], [56, 46, 76, 20]]\n"
          ]
        }
      ]
    },
    {
      "cell_type": "code",
      "source": [
        "# Question - 3\n",
        "def reshape_matrix(matrix, new_rows, new_cols):\n",
        "\n",
        "    flat_matrix = [num for row in matrix for num in row]\n",
        "\n",
        "\n",
        "    if len(flat_matrix) != new_rows * new_cols:\n",
        "        return []\n",
        "\n",
        "    reshaped = [flat_matrix[i * new_cols:(i + 1) * new_cols] for i in range(new_rows)]\n",
        "    return reshaped\n",
        "\n",
        "\n",
        "matrix = [[85, 21, 63], [4, 50, 76]]\n",
        "new_shape = (2, 3)\n",
        "print(reshape_matrix(matrix, *new_shape))\n"
      ],
      "metadata": {
        "colab": {
          "base_uri": "https://localhost:8080/"
        },
        "id": "ky4FGzJVIukw",
        "outputId": "c3a53763-2928-40bf-985a-4ff2b05f74ad"
      },
      "execution_count": null,
      "outputs": [
        {
          "output_type": "stream",
          "name": "stdout",
          "text": [
            "[[85, 21, 63], [4, 50, 76]]\n"
          ]
        }
      ]
    },
    {
      "cell_type": "code",
      "source": [
        "# Question - 4\n",
        "def mean_of_matrix(matrix, mode='row'):\n",
        "\n",
        "    if not matrix or not all(isinstance(row, list) and row for row in matrix):\n",
        "        print(\"Error: The matrix is invalid. It must be a non-empty list of non-empty lists.\")\n",
        "        return None\n",
        "\n",
        "    if mode == 'row':\n",
        "        return [sum(row) / len(row) for row in matrix]\n",
        "    elif mode == 'column':\n",
        "        num_cols = len(matrix[0])\n",
        "        if not all(len(row) == num_cols for row in matrix):\n",
        "            print(\"Error: All rows must have the same number of columns.\")\n",
        "            return None\n",
        "\n",
        "        return [sum(matrix[row][col] for row in range(len(matrix))) / len(matrix) for col in range(num_cols)]\n",
        "    else:\n",
        "        print(\"Error: Mode must be either 'row' or 'column'.\")\n",
        "        return None\n",
        "\n",
        "\n",
        "matrix = [[4, 6, 1], [3, 8, 2], [1, 7, 9]]\n",
        "print(mean_of_matrix(matrix, 'row'))\n",
        "print(mean_of_matrix(matrix, 'column'))\n",
        "\n"
      ],
      "metadata": {
        "colab": {
          "base_uri": "https://localhost:8080/"
        },
        "id": "_QUfTlkUJfTn",
        "outputId": "3f9a9117-75bb-4bb0-dc0c-12a7f48eb032"
      },
      "execution_count": null,
      "outputs": [
        {
          "output_type": "stream",
          "name": "stdout",
          "text": [
            "[3.6666666666666665, 4.333333333333333, 5.666666666666667]\n",
            "[2.6666666666666665, 7.0, 4.0]\n"
          ]
        }
      ]
    },
    {
      "cell_type": "code",
      "source": [
        "# Question - 5\n",
        "def scalar_multiply(matrix, scalar):\n",
        "\n",
        "    return [[scalar * element for element in row] for row in matrix]\n",
        "\n",
        "\n",
        "matrix = [[11, 20, 83], [77, 60, 43], [17, 58, 97]]\n",
        "scalar = 2\n",
        "result = scalar_multiply(matrix, scalar)\n",
        "\n",
        "for row in result:\n",
        "    print(row)\n"
      ],
      "metadata": {
        "colab": {
          "base_uri": "https://localhost:8080/"
        },
        "id": "j4nFWXWCLgH1",
        "outputId": "5741b485-d962-480e-90c9-cf276dfbb66d"
      },
      "execution_count": null,
      "outputs": [
        {
          "output_type": "stream",
          "name": "stdout",
          "text": [
            "[2, 4, 6]\n",
            "[8, 10, 12]\n",
            "[14, 16, 18]\n"
          ]
        }
      ]
    }
  ]
}